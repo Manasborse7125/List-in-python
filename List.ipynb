{
 "cells": [
  {
   "cell_type": "markdown",
   "id": "930e91ab-47c9-41f5-94d8-49febb6c9c77",
   "metadata": {},
   "source": [
    "# List in Python"
   ]
  },
  {
   "cell_type": "code",
   "execution_count": 17,
   "id": "292e59d2-329b-43f9-b6af-9f2439c35acf",
   "metadata": {},
   "outputs": [
    {
     "name": "stdout",
     "output_type": "stream",
     "text": [
      "<class 'list'>\n",
      "7\n",
      "[3, 4, 6, 12, 'Manas', True, 7.7]\n",
      "[3, 4, 6, 12, 'Manas', True, 7.7]\n",
      "12\n",
      "4\n"
     ]
    }
   ],
   "source": [
    "#simple list printing\n",
    "lst=[3,4,6,12,'Manas',True,7.7 ]\n",
    "print(type(lst))\n",
    "print(len(lst))\n",
    "print(lst)\n",
    "print(lst[:])\n",
    "print(lst[3])\n",
    "print(lst[1])"
   ]
  },
  {
   "cell_type": "code",
   "execution_count": 12,
   "id": "1e12efdb-9bf0-42ac-b7fe-8f4bb9055a76",
   "metadata": {},
   "outputs": [
    {
     "name": "stdout",
     "output_type": "stream",
     "text": [
      "[3, 12]\n",
      "[True, 12]\n"
     ]
    }
   ],
   "source": [
    "lst=[3,4,6,12,'Manas',True,7.7 ]\n",
    "print(lst[0:4:3])\n",
    "print(lst[-2:-5:-2])\n",
    "#always convert negative indexing to positive indexing\n",
    "#print(lst[len(lst)-2:len(lst)-5:len(lst)-2])\n"
   ]
  },
  {
   "cell_type": "code",
   "execution_count": 13,
   "id": "e9042310-c564-4dcc-944c-2fa80956e16f",
   "metadata": {},
   "outputs": [
    {
     "name": "stdout",
     "output_type": "stream",
     "text": [
      "Yes\n"
     ]
    }
   ],
   "source": [
    "#checking element in list\n",
    "lst=[3,4,6,12,'Manas',True,7.7 ]\n",
    "if 'Manas' in lst:\n",
    "    print(\"Yes\")\n",
    "else:\n",
    "    print(\"No\")"
   ]
  },
  {
   "cell_type": "code",
   "execution_count": 19,
   "id": "55bfceb9-0dca-4574-9496-7999478b5aaf",
   "metadata": {},
   "outputs": [
    {
     "name": "stdout",
     "output_type": "stream",
     "text": [
      "[3, 4, 6, 12, 'Manas', True, 7.7]\n",
      "[3, 4, 'Nashik', 12, 'Manas', True, 7.7]\n"
     ]
    }
   ],
   "source": [
    "#Changes in list\n",
    "lst=[3,4,6,12,'Manas',True,7.7 ]\n",
    "print(lst)\n",
    "lst[2]='Nashik'\n",
    "print(lst)"
   ]
  },
  {
   "cell_type": "code",
   "execution_count": 16,
   "id": "ea5aa63c-74bd-425e-8da1-3eaae3f8ee00",
   "metadata": {},
   "outputs": [
    {
     "name": "stdout",
     "output_type": "stream",
     "text": [
      "[1, 23, 17, 26, 0, 56, 1232, 53]\n",
      "[1, 23, 17, 88, 26, 0, 56, 1232, 53]\n",
      "[0, 1, 17, 23, 26, 53, 56, 88, 1232]\n",
      "[1232, 88, 56, 53, 26, 23, 17, 1, 0]\n",
      "1\n",
      "[1232, 88, 56, 53, 26, 17, 1, 0]\n",
      "[1232, 88, 56, 53, 26, 1, 0]\n",
      "[1232, 56, 53, 26, 1, 0]\n",
      "[]\n"
     ]
    }
   ],
   "source": [
    "#Operations on Lists\n",
    "a=[1,23,17,26,0,56,1232]\n",
    "a.append(53)      #Inserting at last position\n",
    "print(a)\n",
    "a.insert(3,88)   #Inserting But our choice\n",
    "print(a)\n",
    "a.sort(reverse=False)   #Desending order\n",
    "print(a)\n",
    "a.sort(reverse=True)    #Ascending Order\n",
    "print(a)\n",
    "print(a.count(23))      #Counting Value That are repeating\n",
    "a.remove(23)            #Removing item by its value\n",
    "print(a)\n",
    "a.pop(5)                 #Removing item by its index   \n",
    "print(a)\n",
    "del a[1]\n",
    "print(a)\n",
    "a.clear()\n",
    "print(a)"
   ]
  },
  {
   "cell_type": "code",
   "execution_count": 20,
   "id": "8e9ac95f-a237-4dfc-afff-226c147ee19d",
   "metadata": {},
   "outputs": [
    {
     "name": "stdout",
     "output_type": "stream",
     "text": [
      "[1, 23, 17, 26, 0, 56, 1232, 'virat', 'Abd', 'Siraj', 'FAF']\n",
      "[1, 23, 17, 26, 0, 56, 1232, 'virat', 'Abd', 'Siraj', 'FAF']\n"
     ]
    }
   ],
   "source": [
    "#joining 2 lists.\n",
    "a=[1,23,17,26,0,56,1232]   \n",
    "b=['virat','Abd','Siraj','FAF']\n",
    "a.extend(b)\n",
    "print(a)\n",
    "\n",
    "p=[1,23,17,26,0,56,1232]\n",
    "k=p+b\n",
    "print(k)"
   ]
  },
  {
   "cell_type": "code",
   "execution_count": 31,
   "id": "e3e4172b-47d2-4ed7-8826-48fbd61fe4f0",
   "metadata": {},
   "outputs": [
    {
     "name": "stdout",
     "output_type": "stream",
     "text": [
      "Printing by index\n",
      "1\n",
      "23\n",
      "17\n",
      "26\n",
      "0\n",
      "56\n",
      "1232\n",
      "Printing by values\n",
      "1\n",
      "23\n",
      "17\n",
      "26\n",
      "0\n",
      "56\n",
      "1232\n",
      "Printing using while\n",
      "1\n",
      "23\n",
      "17\n",
      "26\n",
      "0\n",
      "56\n",
      "1232\n"
     ]
    }
   ],
   "source": [
    "#accessing Member in list using loops\n",
    "a=[1,23,17,26,0,56,1232]\n",
    "print(\"Printing by index\")\n",
    "for i in range(0,len(a)):\n",
    "    print(a[i])\n",
    "print(\"Printing by values\")\n",
    "for i in a:\n",
    "    print(i)\n",
    "print(\"Printing using while\")\n",
    "i=0\n",
    "while (i<len(a)):\n",
    "    print(a[i])\n",
    "    i=i+1"
   ]
  },
  {
   "cell_type": "code",
   "execution_count": 37,
   "id": "ac5f3db2-3198-4ea7-a00f-ce99fee58391",
   "metadata": {},
   "outputs": [
    {
     "name": "stdout",
     "output_type": "stream",
     "text": [
      "[0, 1, 4, 9, 16, 25, 36, 49, 64, 81, 100]\n",
      "[0, 4, 16, 36, 64, 100]\n",
      "[0, 2, 4, 6, 8, 10, 12, 14, 16, 18, 20]\n",
      "[3, 5, 7, 9]\n"
     ]
    }
   ],
   "source": [
    "#list comprehension\n",
    "mylist=[i*i for i in range(0,11)]\n",
    "print(mylist)\n",
    "yourlist=[i*i for i in range(0,11) if i%2==0]\n",
    "print(yourlist)\n",
    "ourlist=[2*i for i in range(0,11)]\n",
    "print(ourlist)\n",
    "welist=[((2*i)+1) for i in range(1,5)]\n",
    "print(welist)"
   ]
  },
  {
   "cell_type": "code",
   "execution_count": null,
   "id": "86fb7b6f-076a-4538-a06b-12a2aa941f40",
   "metadata": {},
   "outputs": [],
   "source": []
  }
 ],
 "metadata": {
  "kernelspec": {
   "display_name": "Python 3 (ipykernel)",
   "language": "python",
   "name": "python3"
  },
  "language_info": {
   "codemirror_mode": {
    "name": "ipython",
    "version": 3
   },
   "file_extension": ".py",
   "mimetype": "text/x-python",
   "name": "python",
   "nbconvert_exporter": "python",
   "pygments_lexer": "ipython3",
   "version": "3.12.4"
  }
 },
 "nbformat": 4,
 "nbformat_minor": 5
}
